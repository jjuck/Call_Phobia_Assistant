{
 "cells": [
  {
   "cell_type": "code",
   "execution_count": 1,
   "metadata": {},
   "outputs": [
    {
     "name": "stdout",
     "output_type": "stream",
     "text": [
      "입력 문장: 안녕하세요\n",
      "예측 감정: 놀람\n"
     ]
    }
   ],
   "source": [
    "import torch\n",
    "from transformers import AutoTokenizer, AutoModelForSequenceClassification\n",
    "\n",
    "PATH = 'beomi.pth'\n",
    "\n",
    "# 미리 학습한 모델과 토크나이저 로드\n",
    "tokenizer = AutoTokenizer.from_pretrained(\"beomi/KcELECTRA-base\")\n",
    "model = torch.load(PATH, map_location=torch.device('cpu'))  # Load on CPU\n",
    "\n",
    "# 감성 라벨에 대응하는 한글 감정\n",
    "emotion_labels = ['happiness', 'neutral', 'sadness', 'angry', 'surprise', 'disgust', 'fear']\n",
    "emotion_korean = {\n",
    "    'happiness': '행복',\n",
    "    'neutral': '중립',\n",
    "    'sadness': '슬픔',\n",
    "    'angry': '분노',\n",
    "    'surprise': '놀람',\n",
    "    'disgust': '혐오',\n",
    "    'fear': '불안'\n",
    "}\n",
    "\n",
    "# 문장을 입력받아 감성을 예측하고 한글 감정을 출력하는 함수\n",
    "def predict_emotion(sentence):\n",
    "    device = torch.device(\"cuda\" if torch.cuda.is_available() else \"cpu\")\n",
    "    model.to(device)  # Move model to correct device\n",
    "\n",
    "    # 문장을 토큰화하고 모델 입력 형식에 맞게 변환\n",
    "    inputs = tokenizer(sentence, return_tensors='pt')\n",
    "    input_ids = inputs['input_ids'].to(device)\n",
    "    attention_mask = inputs['attention_mask'].to(device)\n",
    "\n",
    "    # 모델을 통해 예측 수행\n",
    "    with torch.no_grad():\n",
    "        outputs = model(input_ids, attention_mask=attention_mask)\n",
    "        logits = outputs.logits\n",
    "        predictions = torch.argmax(logits, dim=1).item()\n",
    "\n",
    "    # 예측된 라벨을 한글 감정으로 변환하여 반환\n",
    "    predicted_emotion = emotion_labels[predictions]\n",
    "    return emotion_korean[predicted_emotion]\n",
    "\n",
    "# 예시 문장을 이용한 감성 예측 및 출력\n",
    "sample_sentence = input()\n",
    "predicted_emotion = predict_emotion(sample_sentence)\n",
    "print(f\"입력 문장: {sample_sentence}\")\n",
    "print(f\"예측 감정: {predicted_emotion}\")\n"
   ]
  },
  {
   "cell_type": "code",
   "execution_count": null,
   "metadata": {},
   "outputs": [],
   "source": []
  }
 ],
 "metadata": {
  "kernelspec": {
   "display_name": "Python 3",
   "language": "python",
   "name": "python3"
  },
  "language_info": {
   "codemirror_mode": {
    "name": "ipython",
    "version": 3
   },
   "file_extension": ".py",
   "mimetype": "text/x-python",
   "name": "python",
   "nbconvert_exporter": "python",
   "pygments_lexer": "ipython3",
   "version": "3.11.5"
  }
 },
 "nbformat": 4,
 "nbformat_minor": 2
}
